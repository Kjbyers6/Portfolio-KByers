{
 "cells": [
  {
   "cell_type": "markdown",
   "id": "cad89cc7",
   "metadata": {},
   "source": [
    "# Ideal Gas Model with Histograms\n",
    "\n",
    "Suppose we want to graph a histogram of the speeds of atoms in the ideal gas simulation.\n",
    "\n",
    "Let's start with our simulation.\n",
    "\n",
    "## Ideal Gas Model"
   ]
  },
  {
   "cell_type": "code",
   "execution_count": 1,
   "id": "42c06e51",
   "metadata": {},
   "outputs": [
    {
     "data": {
      "text/html": [
       "<div id=\"glowscript\" class=\"glowscript\"></div>"
      ],
      "text/plain": [
       "<IPython.core.display.HTML object>"
      ]
     },
     "metadata": {},
     "output_type": "display_data"
    },
    {
     "data": {
      "application/javascript": [
       "if (typeof Jupyter !== \"undefined\") { window.__context = { glowscript_container: $(\"#glowscript\").removeAttr(\"id\")};}else{ element.textContent = ' ';}"
      ],
      "text/plain": [
       "<IPython.core.display.Javascript object>"
      ]
     },
     "metadata": {},
     "output_type": "display_data"
    }
   ],
   "source": [
    "from vpython import *\n",
    "import numpy as np\n",
    "import random as rand\n",
    "import matplotlib.pyplot as plt"
   ]
  },
  {
   "cell_type": "code",
   "execution_count": 2,
   "id": "cf9af961",
   "metadata": {},
   "outputs": [],
   "source": [
    "def check_collisions():\n",
    "    \"\"\"Determine all pairs of colliding spheres in the global particles[] list. \n",
    "        \n",
    "    \"\"\"\n",
    "    collided_pairs = [] #a list of pairs of spheres that are overlapping\n",
    "    \n",
    "    for i in range(N):\n",
    "        for j in range(i+1,N): #start at i+1 to avoid double counting and to avoid self-collision\n",
    "            d = mag(particles[i].pos - particles[j].pos)\n",
    "            if d < 2*R:\n",
    "                collided_pairs.append([i,j])            \n",
    "    \n",
    "    return collided_pairs"
   ]
  },
  {
   "cell_type": "code",
   "execution_count": 3,
   "id": "88912302",
   "metadata": {},
   "outputs": [],
   "source": [
    "def calc_collision(i,j):\n",
    "    \"\"\"Calculate new velocity, momentum, and position of pairs of colliding spheres in the global particles[] list. \n",
    "\n",
    "    Keyword arguments:\n",
    "    i -- index of one colliding sphere\n",
    "    j -- index of second colliding sphere\n",
    "\n",
    "    \"\"\"\n",
    "\n",
    "    global particles\n",
    "    \n",
    "    r1 = particles[i].pos\n",
    "    r2 = particles[j].pos\n",
    "    v1 = particles[i].v\n",
    "    v2 = particles[j].v\n",
    "    p1 = m*v1\n",
    "    p2 = m*v2\n",
    "    v1i = v1\n",
    "    v2i = v2\n",
    "    \n",
    "    #transform to reference frame of particle 1\n",
    "    v2rel = v2 - v1\n",
    "    r2rel = r2 - r1\n",
    "    \n",
    "    #find time when collision ocurred\n",
    "    dx = dot(r2rel, hat(v2rel))\n",
    "    dy = mag(cross(r2rel, hat(v2rel)))\n",
    "    alpha = asin(dy/2/R)\n",
    "    d = 2*R*cos(alpha) + dx\n",
    "    deltat = d/mag(v2rel)\n",
    "    \n",
    "    #move particles backward in time to their locations at the collision\n",
    "    particles[i].pos = particles[i].pos - particles[i].v*deltat\n",
    "    particles[j].pos = particles[j].pos - particles[j].v*deltat\n",
    "    \n",
    "    #calculate new momenta using CM reference frame\n",
    "    r1 = particles[i].pos\n",
    "    r2 = particles[j].pos\n",
    "    M = 2*m #total mass\n",
    "    ptot = p1+p2 #total momentum\n",
    "    vcm = ptot/M\n",
    "    v1rel = v1 - vcm\n",
    "    v2rel = v2 - vcm\n",
    "    p1rel = m*v1rel\n",
    "    p2rel = m*v2rel\n",
    "    r = r2 - r1\n",
    "    p1rel = p1rel - 2*dot(p1rel,hat(r))*hat(r)\n",
    "    p2rel = p2rel - 2*dot(p2rel,hat(r))*hat(r)\n",
    "    v1rel = p1rel/m\n",
    "    v2rel = p2rel/m\n",
    "    v1 = vcm + v1rel\n",
    "    v2 = vcm + v2rel\n",
    "    p1 = m*v1\n",
    "    p2 = m*v2\n",
    "    particles[i].v = v1\n",
    "    particles[j].v = v2\n",
    "\n",
    "    #move particles forward in time to their locations at the end of the time step\n",
    "    particles[i].pos = particles[i].pos + particles[i].v*deltat\n",
    "    particles[j].pos = particles[j].pos + particles[j].v*deltat\n",
    "    \n"
   ]
  },
  {
   "cell_type": "code",
   "execution_count": 7,
   "id": "a1883ff0",
   "metadata": {},
   "outputs": [
    {
     "data": {
      "text/html": [
       "<div id=\"glowscript\" class=\"glowscript\"></div>"
      ],
      "text/plain": [
       "<IPython.core.display.HTML object>"
      ]
     },
     "metadata": {},
     "output_type": "display_data"
    },
    {
     "data": {
      "application/javascript": [
       "if (typeof Jupyter !== \"undefined\") { window.__context = { glowscript_container: $(\"#glowscript\").removeAttr(\"id\")};}else{ element.textContent = ' ';}"
      ],
      "text/plain": [
       "<IPython.core.display.Javascript object>"
      ]
     },
     "metadata": {},
     "output_type": "display_data"
    }
   ],
   "source": [
    "scene = canvas(title=\"N Particles in a Box\")\n",
    "\n",
    "#constants\n",
    "m = 1.7e-27 #mass of atom in kg\n",
    "R = 0.5e-10 #radius of atom in m\n",
    "L = 40*R #length of box in m\n",
    "thick = L/100 #thickness of box wall in m\n",
    "k = 1.4e-23 #boltzmann constant\n",
    "T = 300 #temp in K\n",
    "s =  np.sqrt(2*3/2*k*T/m) #initial speed\n",
    "\n",
    "#visual objects\n",
    "Lwall = box(pos = vec(-L/2, 0, 0), size = vec(thick, L, L), color=color.white)\n",
    "Rwall = box(pos = vec(L/2, 0, 0), size = vec(thick, L, L), color=color.white)\n",
    "Bwall = box(pos = vec(0, -L/2, 0), size = vec(L, thick, L), color=color.white)\n",
    "Twall = box(pos = vec(0, L/2, 0), size = vec(L, thick, L), color=color.white)\n",
    "Zwall = box(pos = vec(0, 0, -L/2), size = vec(L, L, thick), color=color.white)\n",
    "\n",
    "particles = [] #list of particles\n",
    "\n",
    "N=100 #number of particles\n",
    "\n",
    "#create particles\n",
    "for i in range(N):\n",
    "    if i==0:\n",
    "        particle = sphere(pos = L/2*vec(rand.uniform(-0.9,0.9),rand.uniform(-0.9,0.9),rand.uniform(-0.9,0.9)), radius = R, color = color.cyan, make_trail=True, retain=20, trail_radius=0.3*R)\n",
    "    else:\n",
    "        particle = sphere(pos = L/2*vec(rand.uniform(-0.9,0.9),rand.uniform(-0.9,0.9),rand.uniform(-0.9,0.9)), radius = R, color = color.red)\n",
    "\n",
    "    #initial velocity\n",
    "    particle.v = s*hat(vec(rand.uniform(-1,1), rand.uniform(-1,1), rand.uniform(-1,1)))\n",
    "    particle.p = m*particle.v\n",
    "\n",
    "    particles.append(particle)\n",
    "\n",
    "#check for collisions and rerandomize positions of particles that are collided\n",
    "collided_pairs = check_collisions()\n",
    "while len(collided_pairs)!=0:\n",
    "    for pair in collided_pairs:\n",
    "        particles[pair[0]].pos = L/2*vec(rand.uniform(-1,1),rand.uniform(-1,1),rand.uniform(-1,1))\n",
    "        particles[pair[1]].pos = L/2*vec(rand.uniform(-1,1),rand.uniform(-1,1),rand.uniform(-1,1))\n",
    "    collided_pairs = check_collisions()\n",
    "\n",
    "#time\n",
    "t = 0\n",
    "dt = R/s/10\n",
    "\n",
    "#evolution\n",
    "scene.pause()\n",
    "\n",
    "Nsteps = 1e4 #number of time steps for the loop\n",
    "while t < Nsteps*dt:\n",
    "    rate(1000) #sets number of loops per second in order to slow down or speed up visualization\n",
    "\n",
    "    #update position of each particle\n",
    "    for particle in particles:\n",
    "        particle.pos = particle.pos + particle.v*dt\n",
    "        \n",
    "    #handle collisions of particles with each other\n",
    "    collided_pairs = check_collisions()\n",
    "    for pair in collided_pairs:\n",
    "        i = pair[0]\n",
    "        j = pair[1]\n",
    "        calc_collision(i,j)\n",
    "    \n",
    "    #handle collision with walls\n",
    "    for particle in particles:\n",
    "        if particle.pos.x > L/2:\n",
    "            particle.v.x = - abs(particle.v.x)\n",
    "            particle.p = m*particle.v\n",
    "        elif particle.pos.x < -L/2:\n",
    "            particle.v.x = abs(particle.v.x)\n",
    "            particle.p = m*particle.v\n",
    "\n",
    "        if particle.pos.y > L/2:\n",
    "            particle.v.y = - abs(particle.v.y)\n",
    "            particle.p = m*particle.v\n",
    "        elif particle.pos.y < -L/2:\n",
    "            particle.v.y = abs(particle.v.y)\n",
    "            particle.p = m*particle.v\n",
    "\n",
    "        if particle.pos.z > L/2:\n",
    "            particle.v.z = - abs(particle.v.z)\n",
    "            particle.p = m*particle.v\n",
    "        elif particle.pos.z < -L/2:\n",
    "            particle.v.z = abs(particle.v.z)\n",
    "            particle.p = m*particle.v\n",
    "\n",
    "    t = t + dt\n"
   ]
  },
  {
   "cell_type": "markdown",
   "id": "4bbe263d",
   "metadata": {},
   "source": [
    "## Plot Histogram\n",
    "\n",
    "To plot a histogram, you need to create \"bins\" for the speed of a particle and count the number of particles that have a speed that fall within that bin. Numpy can do that for you. The syntax is \n",
    "\n",
    "\n",
    "```python\n",
    "hist, bin_edges = numpy.histogram(arr, bins=N)\n",
    "```\n",
    "\n",
    "where $N$ is the number of bins you want and $arr$ is the array or list of data. In our case we want to determine the precise bins (left edges of bins) for numpy to use in counting the data. To calculate the left edges of bins and use them in the histogram function, use\n",
    "\n",
    "```python\n",
    "#histogram stuff\n",
    "deltav = 100 # binning for v histogram\n",
    "nbins = int(6000/deltav) #number of bins\n",
    "bin_edges = [int(i*deltav) for i in range(nbins)] #left side of bins\n",
    "\n",
    "#store histogram\n",
    "counts, binx = np.histogram([mag(particle.v) for particle in particles], bins=bin_edges)\n",
    "\n",
    "```\n",
    "\n",
    "If we do this after running our simulation, then we will have the final histogram. If we do it before our simulation we will have the initial histogram, where all particles have the same speed. This is a good way to see that it works.\n",
    "\n",
    "To plot the histogram, create a bar graph with each bar at the center of the bin."
   ]
  },
  {
   "cell_type": "code",
   "execution_count": 8,
   "id": "74ec0494",
   "metadata": {},
   "outputs": [
    {
     "data": {
      "image/png": "[encoded data removed]",
      "text/plain": [
       "<Figure size 864x576 with 1 Axes>"
      ]
     },
     "metadata": {
      "needs_background": "light"
     },
     "output_type": "display_data"
    }
   ],
   "source": [
    "#histogram stuff\n",
    "deltav = 100 # bin width for v histogram\n",
    "nbins = int(6000/deltav) #number of bins\n",
    "bin_edges = [int(i*deltav) for i in range(nbins)] #left side of bins\n",
    "\n",
    "#store histogram\n",
    "counts, binx = np.histogram([mag(particle.v) for particle in particles], bins=bin_edges, range=None, normed=None, weights=None, density=None)\n",
    "\n",
    "#create histogram\n",
    "#calculate speed at center of each bin\n",
    "centers = [] #store speed at center of each bin\n",
    "for i in range(len(binx)-1):\n",
    "    vmiddle = (binx[i] + binx[i+1])/2 #calculate speed at center of bin\n",
    "    centers.append(vmiddle)\n",
    "\n",
    "#plot bar graph (histogram)\n",
    "plt.figure(figsize=(12,8))\n",
    "plt.bar(centers, counts, align='center', width=deltav)\n",
    "plt.title('Histogram of Speeds')\n",
    "plt.show()"
   ]
  },
  {
   "cell_type": "markdown",
   "id": "28495561",
   "metadata": {},
   "source": [
    "Theoretically, the distribution should follow the Maxwell-Boltzmann distribution. Since the number of particles is relatively small, it is best to get a histogram after each time step and then average all of the histograms. In the code above the `histgram()` function returns `counts` which is an array of counts, which are integers correspoinding to the number of particles in each bin. A numpy array is different from a python list in that mathematical functions (and other functions) can operate on a numpy array. Thus, you can put a numpy array into a mathematical statement.\n",
    "\n",
    "In our case, we will compute the histogram and store `counts` in a list. Then we will calculate the sum of the `counts` arrays in the list and divide by the number of arrays. This will give us the average count in each bin.\n",
    "\n",
    "In the program below, we store a histogram at $t=0$ and after each time step in a list."
   ]
  },
  {
   "cell_type": "code",
   "execution_count": 9,
   "id": "5a97423a",
   "metadata": {},
   "outputs": [
    {
     "data": {
      "text/html": [
       "<div id=\"glowscript\" class=\"glowscript\"></div>"
      ],
      "text/plain": [
       "<IPython.core.display.HTML object>"
      ]
     },
     "metadata": {},
     "output_type": "display_data"
    },
    {
     "data": {
      "application/javascript": [
       "if (typeof Jupyter !== \"undefined\") { window.__context = { glowscript_container: $(\"#glowscript\").removeAttr(\"id\")};}else{ element.textContent = ' ';}"
      ],
      "text/plain": [
       "<IPython.core.display.Javascript object>"
      ]
     },
     "metadata": {},
     "output_type": "display_data"
    }
   ],
   "source": [
    "scene = canvas(title=\"N Particles in a Box\")\n",
    "\n",
    "#constants\n",
    "m = 1.7e-27 #mass of atom in kg\n",
    "R = 0.5e-10 #radius of atom in m\n",
    "L = 40*R #length of box in m\n",
    "thick = L/100 #thickness of box wall in m\n",
    "k = 1.4e-23 #boltzmann constant\n",
    "T = 300 #temp in K\n",
    "s =  np.sqrt(2*3/2*k*T/m) #initial speed\n",
    "\n",
    "#visual objects\n",
    "Lwall = box(pos = vec(-L/2, 0, 0), size = vec(thick, L, L), color=color.white)\n",
    "Rwall = box(pos = vec(L/2, 0, 0), size = vec(thick, L, L), color=color.white)\n",
    "Bwall = box(pos = vec(0, -L/2, 0), size = vec(L, thick, L), color=color.white)\n",
    "Twall = box(pos = vec(0, L/2, 0), size = vec(L, thick, L), color=color.white)\n",
    "Zwall = box(pos = vec(0, 0, -L/2), size = vec(L, L, thick), color=color.white)\n",
    "\n",
    "particles = [] #list of particles\n",
    "\n",
    "N=100 #number of particles\n",
    "\n",
    "#create particles\n",
    "for i in range(N):\n",
    "    if i==0:\n",
    "        particle = sphere(pos = L/2*vec(rand.uniform(-0.9,0.9),rand.uniform(-0.9,0.9),rand.uniform(-0.9,0.9)), radius = R, color = color.cyan, make_trail=True, retain=20, trail_radius=0.3*R)\n",
    "    else:\n",
    "        particle = sphere(pos = L/2*vec(rand.uniform(-0.9,0.9),rand.uniform(-0.9,0.9),rand.uniform(-0.9,0.9)), radius = R, color = color.red)\n",
    "\n",
    "    #initial velocity\n",
    "    particle.v = s*hat(vec(rand.uniform(-1,1), rand.uniform(-1,1), rand.uniform(-1,1)))\n",
    "    particle.p = m*particle.v\n",
    "\n",
    "    particles.append(particle)\n",
    "\n",
    "#check for collisions and rerandomize positions of particles that are collided\n",
    "collided_pairs = check_collisions()\n",
    "while len(collided_pairs)!=0:\n",
    "    for pair in collided_pairs:\n",
    "        particles[pair[0]].pos = L/2*vec(rand.uniform(-1,1),rand.uniform(-1,1),rand.uniform(-1,1))\n",
    "        particles[pair[1]].pos = L/2*vec(rand.uniform(-1,1),rand.uniform(-1,1),rand.uniform(-1,1))\n",
    "    collided_pairs = check_collisions()\n",
    "\n",
    "#time\n",
    "t = 0\n",
    "dt = R/s/10\n",
    "\n",
    "#histogram stuff\n",
    "histograms = [] #a list of histograms after each time step\n",
    "deltav = 100 # bin width for v histogram\n",
    "nbins = int(6000/deltav) #number of bins\n",
    "bin_edges = [int(i*deltav) for i in range(nbins)] #left side of bins\n",
    "\n",
    "#store histogram\n",
    "counts, binx = np.histogram([mag(particle.v) for particle in particles], bins=bin_edges, range=None, normed=None, weights=None, density=None)\n",
    "histograms.append(counts)\n",
    "\n",
    "\n",
    "#plot first histogram\n",
    "plt.figure(figsize=(12,8))\n",
    "plt.bar(centers, histave, align='center', width=deltav)\n",
    "plt.plot(vtheory,Ntheor,'r-')\n",
    "plt.title('Histogram of Speeds')\n",
    "plt.show()\n",
    "\n",
    "#evolution\n",
    "scene.pause()\n",
    "\n",
    "Nsteps = 1e4 #number of time steps for the loop\n",
    "while t < Nsteps*dt:\n",
    "    rate(1000) #sets number of loops per second in order to slow down or speed up visualization\n",
    "\n",
    "    #update position of each particle\n",
    "    for particle in particles:\n",
    "        particle.pos = particle.pos + particle.v*dt\n",
    "        \n",
    "    #handle collisions of particles with each other\n",
    "    collided_pairs = check_collisions()\n",
    "    for pair in collided_pairs:\n",
    "        i = pair[0]\n",
    "        j = pair[1]\n",
    "        calc_collision(i,j)\n",
    "    \n",
    "    #handle collision with walls\n",
    "    for particle in particles:\n",
    "        if particle.pos.x > L/2:\n",
    "            particle.v.x = - abs(particle.v.x)\n",
    "            particle.p = m*particle.v\n",
    "        elif particle.pos.x < -L/2:\n",
    "            particle.v.x = abs(particle.v.x)\n",
    "            particle.p = m*particle.v\n",
    "\n",
    "        if particle.pos.y > L/2:\n",
    "            particle.v.y = - abs(particle.v.y)\n",
    "            particle.p = m*particle.v\n",
    "        elif particle.pos.y < -L/2:\n",
    "            particle.v.y = abs(particle.v.y)\n",
    "            particle.p = m*particle.v\n",
    "\n",
    "        if particle.pos.z > L/2:\n",
    "            particle.v.z = - abs(particle.v.z)\n",
    "            particle.p = m*particle.v\n",
    "        elif particle.pos.z < -L/2:\n",
    "            particle.v.z = abs(particle.v.z)\n",
    "            particle.p = m*particle.v\n",
    "\n",
    "    t = t + dt\n",
    "    \n",
    "    #store histogram\n",
    "    counts, binx = np.histogram([mag(particle.v) for particle in particles], bins=bin_edges, range=None, normed=None, weights=None, density=None)\n",
    "    histograms.append(counts)\n"
   ]
  },
  {
   "cell_type": "code",
   "execution_count": 10,
   "id": "ff3c4888",
   "metadata": {},
   "outputs": [],
   "source": [
    "#calculate average histogram\n",
    "Nhist = len(histograms)\n",
    "histsum = np.zeros(len(histograms[0]))\n",
    "for i in range(Nhist):\n",
    "    histsum = histsum + histograms[i]\n",
    "histave = histsum/Nhist"
   ]
  },
  {
   "cell_type": "code",
   "execution_count": 12,
   "id": "b3dffc03",
   "metadata": {},
   "outputs": [
    {
     "data": {
      "image/png": "[encoded data removed]",
      "text/plain": [
       "<Figure size 864x576 with 1 Axes>"
      ]
     },
     "metadata": {
      "needs_background": "light"
     },
     "output_type": "display_data"
    }
   ],
   "source": [
    "#plot histogram\n",
    "#calculate speed at center of each bin\n",
    "centers = [] #store speed at center of each bin\n",
    "for i in range(len(binx)-1):\n",
    "    vmiddle = (binx[i] + binx[i+1])/2 #calculate speed at center of bin\n",
    "    centers.append(vmiddle)\n",
    "\n",
    "## Add a theoretical plot\n",
    "dv = 10\n",
    "Ntheor = []\n",
    "vtheory = []\n",
    "for v in range(0,6001+dv,dv):\n",
    "    Ntheor.append((deltav/dv)*N*4*pi*((m/(2*pi*k*T))**1.5) *exp(-0.5*m*(v**2)/(k*T))*(v**2)*dv ) # theoretical prediction\n",
    "    vtheory.append(v)\n",
    "\n",
    "#plot bar graph (histogram)\n",
    "plt.figure(figsize=(12,8))\n",
    "plt.bar(centers, histave, align='center', width=deltav)\n",
    "plt.plot(vtheory,Ntheor,'r-')\n",
    "plt.title('Histogram of Speeds')\n",
    "plt.show()"
   ]
  },
  {
   "cell_type": "code",
   "execution_count": null,
   "id": "316c22aa",
   "metadata": {},
   "outputs": [],
   "source": []
  }
 ],
 "metadata": {
  "kernelspec": {
   "display_name": "Python 3 (ipykernel)",
   "language": "python",
   "name": "python3"
  },
  "language_info": {
   "codemirror_mode": {
    "name": "ipython",
    "version": 3
   },
   "file_extension": ".py",
   "mimetype": "text/x-python",
   "name": "python",
   "nbconvert_exporter": "python",
   "pygments_lexer": "ipython3",
   "version": "3.9.7"
  }
 },
 "nbformat": 4,
 "nbformat_minor": 5
}
