{
 "cells": [
  {
   "cell_type": "markdown",
   "id": "25865544",
   "metadata": {},
   "source": [
    " "
   ]
  },
  {
   "cell_type": "markdown",
   "id": "65a6828f",
   "metadata": {},
   "source": [
    "# Program 2 - Modeling A Realistic Curve Ball"
   ]
  },
  {
   "cell_type": "markdown",
   "id": "d74e4f32",
   "metadata": {},
   "source": [
    "In this Program we were tasked with modeling a curve ball with real data. We started our program with the MLB average curveball which had a 79.3 mph velocity, and a spin rate of 2748 rpm. The reason a curveball curves is due to the magnus effect. \"The Magnus effect is an observable phenomenon that is commonly associated with a spinning object moving through a fluid. The path of the spinning object is deflected in a manner that is not present when the object is not spinning. The deflection can be explained by the difference in pressure of the fluid on opposite sides of the spinning object.\"(https://en.wikipedia.org/wiki/Magnus_effect)"
   ]
  },
  {
   "cell_type": "markdown",
   "id": "acae9717",
   "metadata": {},
   "source": [
    "# Theory\n",
    "\n",
    "Our hyopthesis revolved around these stats, we believed that the slower the velocity the greater the horizontal and vertical movement, and therefore the greater the velocity the greater amount of spin rate you would need to match the same amount of movement"
   ]
  },
  {
   "cell_type": "markdown",
   "id": "af012aeb",
   "metadata": {},
   "source": [
    "# Assumptions\n",
    "\n",
    "In this model we will be changing up the axis. The axis will be as if we were looking down on top of the pitcher. The pitcher will be a right handed pitcher releasing the ball about 1.88 meters high. "
   ]
  },
  {
   "cell_type": "markdown",
   "id": "86851565",
   "metadata": {},
   "source": [
    "In this first cell we started by importing the needed ode file as well as our math import of numpy and the graphing import of matplotlib.pyplot"
   ]
  },
  {
   "cell_type": "code",
   "execution_count": 33,
   "id": "9f84c502",
   "metadata": {},
   "outputs": [],
   "source": [
    "import ode #ode.py should be in the same folder as your notebook\n",
    "import numpy as np\n",
    "import matplotlib.pyplot as plt"
   ]
  },
  {
   "cell_type": "markdown",
   "id": "09cfe3d9",
   "metadata": {},
   "source": [
    "Here we set our needed parameters and constants. This being the all the dimensions and weight of the baseball as well as other constants like gravity"
   ]
  },
  {
   "cell_type": "code",
   "execution_count": 34,
   "id": "2be6830f",
   "metadata": {},
   "outputs": [],
   "source": [
    "#parameters\n",
    "g = 9.8 #N/kg\\\n",
    "rho = 1.2 #kg/m^3\n",
    "mu = 1.8e-5 #kg/m/s\n",
    "r = 74e-3/2 #74 mm diameter, 9.25\" in circumference\n",
    "A = np.pi*r**2 #cross-sectional area\n",
    "Cd = 0.3 #depends on speed\n",
    "m = 0.145 #kg\n",
    "#b2 = 1/2*Cd*rho*A #changes as Cd changes\n",
    "\n",
    "S = 0.01 #will change as omega and v change\n",
    "CL = 0 #will change with S\n",
    "#alpha = 1/2*CL*rho*A*r/S\n",
    "\n"
   ]
  },
  {
   "cell_type": "markdown",
   "id": "7e6ebf70",
   "metadata": {},
   "source": [
    "In this cell we declared much of the initial positions and conditions. We start with the velocity and spin rate (these are the stats that we changed to measure the different effects of lower and higher velocity) as well as the conversion from mph and degrees to m/s and radians. We also declare the initial positions and velocities of the baseball and finall declaring our data array for these."
   ]
  },
  {
   "cell_type": "code",
   "execution_count": 35,
   "id": "f7426187",
   "metadata": {},
   "outputs": [],
   "source": [
    "def speedspin(vmag0mph, spinrate):\n",
    "\n",
    "    global vmag0, theta, omegamag, omega, data\n",
    "    # data for pitch\n",
    "    #vmag0mph = 79.3 #mph\n",
    "    thetadeg = -1 #degx\n",
    "    #spinrate = 2748 #rpm\n",
    "    \n",
    "    # convert units and create initial conditions\n",
    "    vmag0 = vmag0mph*0.44704 #convert mph to m/s\n",
    "    theta = thetadeg*np.pi/180 #convert deg to rad\n",
    "    \n",
    "    # initial position and velocity components\n",
    "    x0 = .22\n",
    "    y0 = 0\n",
    "    z0 = 1.88\n",
    "    vx0 = 0 \n",
    "    vy0 = vmag0*np.cos(theta)     \n",
    "    vz0 = vmag0*np.sin(theta) \n",
    "    \n",
    "    # initial angular speed and velocity\n",
    "    omegamag = spinrate * 2*np.pi / 60 #convert to rad/s\n",
    "    omega = np.array([-omegamag, 0, 0])\n",
    "    \n",
    "    # array for instantaneous position and velocity data\n",
    "    data = np.array([x0, y0, z0, vx0, vy0, vz0])\n",
    "\n"
   ]
  },
  {
   "cell_type": "markdown",
   "id": "4695beee",
   "metadata": {},
   "source": [
    "In this cell we create a function to calculate and return the derivatives. Here we calculate the velocity, as well as the drag and magnus effect for all axes. We also calculate for the net force in all axes and the derivatives."
   ]
  },
  {
   "cell_type": "code",
   "execution_count": 36,
   "id": "0fecad34",
   "metadata": {},
   "outputs": [],
   "source": [
    "def forcesoftheball(d, t):\n",
    "    \"\"\" Calculate and return the derivative of each quantity in an array d at the time t.\n",
    "   \n",
    "    Keyword arguments:\n",
    "    t -- time at the beginning of the time step\n",
    "    d -- an array of variables at time t\n",
    "    \"\"\"\n",
    "   \n",
    "    x = d[0]\n",
    "    y = d[1]\n",
    "    z = d[2]\n",
    "    vx = d[3]\n",
    "    vy = d[4]\n",
    "    vz = d[5]\n",
    "   \n",
    "    dxdt = vx\n",
    "    dydt = vy\n",
    "    dzdt = vz\n",
    "   \n",
    "    v = np.sqrt(vx**2 + vy**2 + vz**2)\n",
    "    Fdragx = -1/2*Cd*rho*A*v**2 * vx/v\n",
    "    Fdragy = -1/2*Cd*rho*A*v**2 * vy/v\n",
    "    Fdragz = -1/2*Cd*rho*A*v**2 * vz/v\n",
    "   \n",
    "    Fgravz = -m*g\n",
    "    \n",
    "    S = (r*omegamag)/v\n",
    "    CL = 0.62*S**0.7\n",
    "    \n",
    "    Fmagnusx =  1/2*CL*rho*((A*r)/S)*((omega[0]*vy)-(omega[1]*vx))\n",
    "    Fmagnusy =  1/2*CL*rho*((A*r)/S)*((omega[1]*vz)-(omega[2]*vy))\n",
    "    Fmagnusz =  1/2*CL*rho*((A*r)/S)*((omega[2]*vx)-(omega[0]*vz))\n",
    "    \n",
    "    Fnetx = Fdragx + Fmagnusx\n",
    "    Fnety = Fdragy + Fmagnusy\n",
    "    Fnetz = Fmagnusz + Fgravz\n",
    "    \n",
    "    dvxdt = Fnetx/m\n",
    "    dvydt = Fnety/m\n",
    "    dvzdt = Fnetz/m   \n",
    "\n",
    "    derivs = np.array([dxdt, dydt, dzdt, dvxdt, dvydt, dvzdt])\n",
    "   \n",
    "    return derivs"
   ]
  },
  {
   "cell_type": "markdown",
   "id": "ac8395e6",
   "metadata": {},
   "source": [
    "Here we declare the time and time step as well as the initial position and velocity for our baseball. We then declare the lists to store our data for the position on all axes as well as the time. Next we run through a while loop that stops when the y value is less that 16.2, and in this loop we use the RK4 method calling our previous funstion to get our values, and finally in this loop we append these values to the end of our lists. Following the loop we use our graphing import to plot the different views of the axes, most importantly the Y value list versus the X Value list."
   ]
  },
  {
   "cell_type": "code",
   "execution_count": 47,
   "id": "74c4cf84",
   "metadata": {},
   "outputs": [],
   "source": [
    "def plot():\n",
    "    \n",
    "    t = 0 #time in s\n",
    "    h = .01 #time step in s\n",
    "\n",
    "    # initial position and velocity components\n",
    "    x = .22\n",
    "    y = 0\n",
    "    z = 1.88\n",
    "    vx = 0 \n",
    "    vy = vmag0*np.cos(theta)   \n",
    "    vz = vmag0*np.sin(theta)   \n",
    "\n",
    "    # lists for storing data to graph\n",
    "    tlist = []\n",
    "    xlist = []\n",
    "    ylist = []\n",
    "    zlist = []\n",
    "\n",
    "    # store initial values\n",
    "    tlist.append(t)\n",
    "    xlist.append(x)\n",
    "    ylist.append(y)\n",
    "    zlist.append(z)\n",
    "\n",
    "    data = np.array([x,y,z,vx,vy,vz])\n",
    "\n",
    "    # compute\n",
    "    while y < 16.2:\n",
    "\n",
    "        data = ode.RK4(forcesoftheball, data, t, h)\n",
    "        t = t + h\n",
    "\n",
    "        x = data[0]\n",
    "        y = data[1]\n",
    "        z = data[2]\n",
    "        tlist.append(t)\n",
    "        xlist.append(x)\n",
    "        ylist.append(y)\n",
    "        zlist.append(z)\n",
    "        print(x)\n",
    "\n",
    "    # Plot the trajectory\n",
    "    plt.figure(figsize = (8,10))\n",
    "    plt.title(\"Trajectory of a Baseball from a Curveball Pitch\")\n",
    "    plt.xlabel(\"x (m)\")\n",
    "    plt.ylabel(\"y (m)\")\n",
    "    plt.plot(xlist, ylist, 'bo')\n",
    "    plt.show()\n",
    "\n",
    "    print('Distance Ball Traveled Horozontally') \n",
    "    print((xlist[-1]-xlist[0])*-1)"
   ]
  },
  {
   "cell_type": "code",
   "execution_count": 48,
   "id": "1c1d0f4a",
   "metadata": {},
   "outputs": [
    {
     "name": "stdout",
     "output_type": "stream",
     "text": [
      "0.21968432094348708\n",
      "0.21873865697608005\n",
      "0.21716505830809968\n",
      "0.21496556245355622\n",
      "0.21214219434674056\n",
      "0.2086969664584343\n",
      "0.20463187891175316\n",
      "0.19994891959763747\n",
      "0.19465006429000328\n",
      "0.1887372767605678\n",
      "0.182212508893362\n",
      "0.17507770079894336\n",
      "0.16733478092832177\n",
      "0.1589856661866105\n",
      "0.15003226204641504\n",
      "0.14047646266097108\n",
      "0.130320150977044\n",
      "0.11956519884760086\n",
      "0.10821346714426625\n",
      "0.0962668058695728\n",
      "0.08372705426901733\n",
      "0.07059604094293254\n",
      "0.05687558395818485\n",
      "0.04256749095970795\n",
      "0.027673559281881713\n",
      "0.012195576059765794\n",
      "-0.0038646816598030256\n",
      "-0.020505446807241097\n",
      "-0.03772496217936723\n",
      "-0.055521480328662956\n",
      "-0.07389326345263585\n",
      "-0.09283858328327826\n",
      "-0.11235572097661434\n",
      "-0.132442967002328\n",
      "-0.15309862103346558\n",
      "-0.17432099183620645\n",
      "-0.1961083971596956\n",
      "-0.21845916362593248\n",
      "-0.24137162661971043\n",
      "-0.2648441301786016\n",
      "-0.2888750268829826\n",
      "-0.3134626777460962\n",
      "-0.3386054521041447\n",
      "-0.3643017275064116\n",
      "-0.39054988960540654\n",
      "-0.41734833204703237\n",
      "-0.44469545636076924\n",
      "-0.4725896718498742\n",
      "-0.5010293954815936\n",
      "-0.5300130517773861\n",
      "-0.559539072703155\n",
      "-0.5896058975594872\n",
      "-0.6202119728719\n",
      "-0.6513557522810918\n",
      "-0.6830356964331988\n",
      "-0.7152502728700567\n",
      "-0.7479979559194659\n",
      "-0.7812772265854636\n",
      "-0.8150865724386007\n",
      "-0.8494244875062259\n",
      "-0.8842894721627781\n",
      "-0.9196800330200884\n",
      "-0.9555946828176939\n",
      "-0.9920319403131648\n"
     ]
    },
    {
     "data": {
      "image/png": "[encoded data removed]",
      "text/plain": [
       "<Figure size 576x720 with 1 Axes>"
      ]
     },
     "metadata": {
      "needs_background": "light"
     },
     "output_type": "display_data"
    },
    {
     "name": "stdout",
     "output_type": "stream",
     "text": [
      "Distance Ball Traveled Horozontally\n",
      "1.2120319403131647\n"
     ]
    }
   ],
   "source": [
    "speedspin(60, 5000)\n",
    "plot()"
   ]
  },
  {
   "cell_type": "code",
   "execution_count": 49,
   "id": "5ebf9129",
   "metadata": {},
   "outputs": [
    {
     "name": "stdout",
     "output_type": "stream",
     "text": [
      "0.21965294338976915\n",
      "0.21861391833281482\n",
      "0.21688612510609184\n",
      "0.2144727416603565\n",
      "0.21137692384721302\n",
      "0.207601805643938\n",
      "0.20315049937611607\n",
      "0.19802609593812137\n",
      "0.19223166501147707\n",
      "0.18577025528112612\n",
      "0.17864489464964461\n",
      "0.1708585904494297\n",
      "0.1624143296528927\n",
      "0.15331507908068787\n",
      "0.14356378560800687\n",
      "0.13316337636896827\n",
      "0.12211675895913104\n",
      "0.11042682163616047\n",
      "0.09809643351867454\n",
      "0.08512844478329834\n",
      "0.07152568685995336\n",
      "0.05729097262540863\n",
      "0.04242709659511951\n",
      "0.026936835113380096\n",
      "0.01082294654181449\n",
      "-0.00591182855376823\n",
      "-0.023264767218130894\n",
      "-0.041233163922952856\n",
      "-0.05981433038473884\n",
      "-0.07900559538426868\n",
      "-0.09880430458756521\n",
      "-0.11920782036835778\n",
      "-0.14021352163201947\n",
      "-0.1618188036409562\n",
      "-0.18402107784142652\n",
      "-0.20681777169177135\n",
      "-0.2302063284920326\n",
      "-0.2541842072149411\n",
      "-0.27874888233825373\n",
      "-0.30389784367842\n",
      "-0.3296285962255596\n",
      "-0.35593865997973173\n",
      "-0.3828255697884774\n",
      "-0.4102868751856178\n",
      "-0.4383201402312894\n"
     ]
    },
    {
     "data": {
      "image/png": "[encoded data removed]",
      "text/plain": [
       "<Figure size 576x720 with 1 Axes>"
      ]
     },
     "metadata": {
      "needs_background": "light"
     },
     "output_type": "display_data"
    },
    {
     "name": "stdout",
     "output_type": "stream",
     "text": [
      "Distance Ball Traveled Horozontally\n",
      "0.6583201402312894\n"
     ]
    }
   ],
   "source": [
    "speedspin(85, 3000)\n",
    "plot()"
   ]
  },
  {
   "cell_type": "markdown",
   "id": "ec8ec076",
   "metadata": {},
   "source": [
    "# Conclusion\n",
    "\n",
    "In conclussion using these graphs we were able to determine that our hypothesis is correct and the lower the initial velocity of our pitch increases the horizontal movement of the baseball. We also see that through the fact that as we increase the velocity we need a greater spin rate to get the equal amount of horizontal movement. However just becuase you have greater horizontal movement does not mean it is a better pitch."
   ]
  },
  {
   "cell_type": "code",
   "execution_count": null,
   "id": "b13e9615",
   "metadata": {},
   "outputs": [],
   "source": []
  }
 ],
 "metadata": {
  "kernelspec": {
   "display_name": "Python 3 (ipykernel)",
   "language": "python",
   "name": "python3"
  },
  "language_info": {
   "codemirror_mode": {
    "name": "ipython",
    "version": 3
   },
   "file_extension": ".py",
   "mimetype": "text/x-python",
   "name": "python",
   "nbconvert_exporter": "python",
   "pygments_lexer": "ipython3",
   "version": "3.9.7"
  }
 },
 "nbformat": 4,
 "nbformat_minor": 5
}
