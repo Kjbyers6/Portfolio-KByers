{
 "cells": [
  {
   "cell_type": "code",
   "execution_count": 6,
   "id": "d61c27c0",
   "metadata": {},
   "outputs": [],
   "source": [
    "import ode #ode.py should be in the same folder as your notebook\n",
    "import numpy as np\n",
    "import matplotlib.pyplot as plt"
   ]
  },
  {
   "cell_type": "code",
   "execution_count": 7,
   "id": "e8dea99f",
   "metadata": {},
   "outputs": [],
   "source": [
    "#parameters\n",
    "g = 9.8 #N/kg\\\n",
    "rho = 1.2 #kg/m^3\n",
    "mu = 1.8e-5 #kg/m/s\n",
    "r = 74e-3/2 #74 mm diameter, 9.25\" in circumference\n",
    "A = np.pi*r**2 #cross-sectional area\n",
    "Cd = 0.3 #depends on speed\n",
    "m = 0.145 #kg\n",
    "\n",
    "S = 0.01 #will change as omega and v change\n",
    "CL = 0 #will change with S\n"
   ]
  },
  {
   "cell_type": "code",
   "execution_count": 8,
   "id": "46bf6f9e",
   "metadata": {},
   "outputs": [],
   "source": [
    "# data for pitch\n",
    "vmag0mph = 79.3 #mph\n",
    "thetadeg = -1 #degy\n",
    "spinrate = 2748 #rpm\n",
    "\n",
    "# convert units and create initial conditions\n",
    "vmag0 = vmag0mph*0.44704 #convert mph to m/s\n",
    "theta = thetadeg*np.pi/180 #convert deg to rad\n",
    "\n",
    "# initial position and velocity components\n",
    "x0 = .22\n",
    "y0 = 0\n",
    "z0 = 1.88\n",
    "vx0 = 0 \n",
    "vy0 = vmag0*np.cos(theta)     \n",
    "vz0 = vmag0*np.sin(theta)\n",
    "\n",
    "# initial angular speed and velocity\n",
    "omegamag = spinrate * 2*np.pi / 60 #convert to rad/s\n",
    "omega = np.array([-omegamag, 0, 0])\n",
    "\n",
    "# array for instantaneous position and velocity data\n",
    "data = np.array([x0, y0, z0, vx0, vy0, vz0])\n"
   ]
  },
  {
   "cell_type": "code",
   "execution_count": 9,
   "id": "248606cb",
   "metadata": {},
   "outputs": [],
   "source": [
    "def forcesoftheball(d, t):\n",
    "    \"\"\" Calculate and return the derivative of each quantity in an array d at the time t.\n",
    "   \n",
    "    Keyword arguments:\n",
    "    t -- time at the beginning of the time step\n",
    "    d -- an array of variables at time t\n",
    "    \"\"\"\n",
    "   \n",
    "    x = d[0]\n",
    "    y = d[1]\n",
    "    z = d[2]\n",
    "    vx = d[3]\n",
    "    vy = d[4]\n",
    "    vz = d[5]\n",
    "   \n",
    "    dxdt = vx\n",
    "    dydt = vy\n",
    "    dzdt = vz\n",
    "   \n",
    "    v = np.sqrt(vx**2 + vy**2 + vz**2)\n",
    "    Fdragx = -1/2*Cd*rho*A*v**2 * vx/v\n",
    "    Fdragy = -1/2*Cd*rho*A*v**2 * vy/v\n",
    "    Fdragz = -1/2*Cd*rho*A*v**2 * vz/v\n",
    "   \n",
    "    Fgravz = -m*g\n",
    "    \n",
    "    S = (r*omegamag)/v\n",
    "    CL = 0.62*S**0.7\n",
    "    \n",
    "    Fmagnusx =  1/2*CL*rho*((A*r)/S)*((omega[0]*vy)-(omega[1]*vx))\n",
    "    Fmagnusy =  1/2*CL*rho*((A*r)/S)*((omega[1]*vz)-(omega[2]*vy))\n",
    "    Fmagnusz =  1/2*CL*rho*((A*r)/S)*((omega[2]*vx)-(omega[0]*vz))\n",
    "    \n",
    "    Fnetx = Fdragx + Fmagnusx\n",
    "    Fnety = Fdragy + Fmagnusy\n",
    "    Fnetz = Fmagnusz + Fgravz\n",
    "    \n",
    "    dvxdt = Fnetx/m\n",
    "    dvydt = Fnety/m\n",
    "    dvzdt = Fnetz/m   \n",
    "\n",
    "    derivs = np.array([dxdt, dydt, dzdt, dvxdt, dvydt, dvzdt])\n",
    "   \n",
    "    return derivs"
   ]
  },
  {
   "cell_type": "code",
   "execution_count": 10,
   "id": "c3579e21",
   "metadata": {
    "scrolled": false
   },
   "outputs": [
    {
     "data": {
      "image/png": "[encoded data removed]",
      "text/plain": [
       "<Figure size 576x720 with 1 Axes>"
      ]
     },
     "metadata": {
      "needs_background": "light"
     },
     "output_type": "display_data"
    },
    {
     "name": "stdout",
     "output_type": "stream",
     "text": [
      "-0.6438981890710603\n"
     ]
    }
   ],
   "source": [
    "t = 0 #time in s\n",
    "h = .01 #time step in s\n",
    "\n",
    "# initial position and velocity components\n",
    "x = .22\n",
    "y = 0\n",
    "z = 1.88\n",
    "vx = 0 \n",
    "vy = vmag0*np.cos(theta)   \n",
    "vz = vmag0*np.sin(theta) \n",
    "\n",
    "# lists for storing data to graph\n",
    "tlist = []\n",
    "xlist = []\n",
    "ylist = []\n",
    "zlist = []\n",
    "\n",
    "# store initial values\n",
    "tlist.append(t)\n",
    "xlist.append(x)\n",
    "ylist.append(y)\n",
    "zlist.append(z)\n",
    "\n",
    "data = np.array([x,y,z,vx,vy,vz])\n",
    "\n",
    "# compute\n",
    "while y < 16.2:\n",
    "   \n",
    "    data = ode.RK4(forcesoftheball, data, t, h)\n",
    "    t = t + h\n",
    "   \n",
    "    x = data[0]\n",
    "    y = data[1]\n",
    "    z = data[2]\n",
    "    tlist.append(t)\n",
    "    xlist.append(x)\n",
    "    ylist.append(y)\n",
    "    zlist.append(z)\n",
    "   \n",
    "# Plot the trajectory\n",
    "plt.figure(figsize = (8,10))\n",
    "plt.title(\"Trajectory of a Baseball from a Curveball Pitch\")\n",
    "plt.xlabel(\"x (m)\")\n",
    "plt.ylabel(\"T (s)\")\n",
    "plt.plot(xlist, ylist, 'bo')\n",
    "plt.show()\n",
    "\n",
    "print(xlist[-1]-xlist[0])"
   ]
  },
  {
   "attachments": {},
   "cell_type": "markdown",
   "id": "585e12a1",
   "metadata": {},
   "source": [
    "\n",
    "\n",
    "\n",
    "\n",
    "\n",
    "\n",
    "\n",
    "\n",
    "\n",
    "\n",
    "\n",
    "\n",
    "\n",
    "\n",
    "\n",
    "\n",
    "\n"
   ]
  }
 ],
 "metadata": {
  "kernelspec": {
   "display_name": "Python 3 (ipykernel)",
   "language": "python",
   "name": "python3"
  },
  "language_info": {
   "codemirror_mode": {
    "name": "ipython",
    "version": 3
   },
   "file_extension": ".py",
   "mimetype": "text/x-python",
   "name": "python",
   "nbconvert_exporter": "python",
   "pygments_lexer": "ipython3",
   "version": "3.9.7"
  }
 },
 "nbformat": 4,
 "nbformat_minor": 5
}
